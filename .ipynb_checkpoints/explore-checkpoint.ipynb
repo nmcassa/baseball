{
 "cells": [
  {
   "cell_type": "markdown",
   "id": "178c9a45",
   "metadata": {},
   "source": [
    "# Baseball Predictions"
   ]
  },
  {
   "cell_type": "markdown",
   "id": "0ee48bce",
   "metadata": {},
   "source": [
    "## OG algo"
   ]
  },
  {
   "cell_type": "code",
   "execution_count": 1,
   "id": "9cf10b21",
   "metadata": {},
   "outputs": [],
   "source": [
    "#!pip install pandas\n",
    "import pandas as pd\n",
    "import matplotlib.pyplot as plt\n",
    "from sklearn.ensemble import RandomForestRegressor\n",
    "from sklearn.tree import DecisionTreeRegressor\n",
    "from sklearn.metrics import mean_absolute_error, accuracy_score\n",
    "from sklearn.model_selection import train_test_split"
   ]
  },
  {
   "cell_type": "code",
   "execution_count": 4,
   "id": "fc31df68",
   "metadata": {},
   "outputs": [
    {
     "data": {
      "text/html": [
       "<div>\n",
       "<style scoped>\n",
       "    .dataframe tbody tr th:only-of-type {\n",
       "        vertical-align: middle;\n",
       "    }\n",
       "\n",
       "    .dataframe tbody tr th {\n",
       "        vertical-align: top;\n",
       "    }\n",
       "\n",
       "    .dataframe thead th {\n",
       "        text-align: right;\n",
       "    }\n",
       "</style>\n",
       "<table border=\"1\" class=\"dataframe\">\n",
       "  <thead>\n",
       "    <tr style=\"text-align: right;\">\n",
       "      <th></th>\n",
       "      <th>m1 h</th>\n",
       "      <th>m2 h</th>\n",
       "      <th>m3 h</th>\n",
       "      <th>m4 h</th>\n",
       "      <th>m1 a</th>\n",
       "      <th>m2 a</th>\n",
       "      <th>m3 a</th>\n",
       "      <th>m4 a</th>\n",
       "      <th>winner</th>\n",
       "    </tr>\n",
       "  </thead>\n",
       "  <tbody>\n",
       "    <tr>\n",
       "      <th>count</th>\n",
       "      <td>2763.000000</td>\n",
       "      <td>2763.000000</td>\n",
       "      <td>2763.000000</td>\n",
       "      <td>2763.000000</td>\n",
       "      <td>2763.000000</td>\n",
       "      <td>2763.000000</td>\n",
       "      <td>2763.000000</td>\n",
       "      <td>2763.000000</td>\n",
       "      <td>2763.000000</td>\n",
       "    </tr>\n",
       "    <tr>\n",
       "      <th>mean</th>\n",
       "      <td>0.377351</td>\n",
       "      <td>0.042599</td>\n",
       "      <td>-0.125212</td>\n",
       "      <td>0.160548</td>\n",
       "      <td>0.384202</td>\n",
       "      <td>0.020174</td>\n",
       "      <td>-0.103820</td>\n",
       "      <td>0.228418</td>\n",
       "      <td>0.534202</td>\n",
       "    </tr>\n",
       "    <tr>\n",
       "      <th>std</th>\n",
       "      <td>1.541160</td>\n",
       "      <td>0.848823</td>\n",
       "      <td>1.228167</td>\n",
       "      <td>2.527689</td>\n",
       "      <td>1.738104</td>\n",
       "      <td>0.848673</td>\n",
       "      <td>1.194767</td>\n",
       "      <td>2.366799</td>\n",
       "      <td>0.498919</td>\n",
       "    </tr>\n",
       "    <tr>\n",
       "      <th>min</th>\n",
       "      <td>-25.770000</td>\n",
       "      <td>-2.390000</td>\n",
       "      <td>-6.251034</td>\n",
       "      <td>-83.900000</td>\n",
       "      <td>-48.690000</td>\n",
       "      <td>-2.310000</td>\n",
       "      <td>-6.368462</td>\n",
       "      <td>-84.300000</td>\n",
       "      <td>0.000000</td>\n",
       "    </tr>\n",
       "    <tr>\n",
       "      <th>25%</th>\n",
       "      <td>-0.220000</td>\n",
       "      <td>-0.560000</td>\n",
       "      <td>-0.730974</td>\n",
       "      <td>-0.638366</td>\n",
       "      <td>-0.170000</td>\n",
       "      <td>-0.600000</td>\n",
       "      <td>-0.719985</td>\n",
       "      <td>-0.564976</td>\n",
       "      <td>0.000000</td>\n",
       "    </tr>\n",
       "    <tr>\n",
       "      <th>50%</th>\n",
       "      <td>0.530000</td>\n",
       "      <td>0.130000</td>\n",
       "      <td>-0.003274</td>\n",
       "      <td>0.427595</td>\n",
       "      <td>0.550000</td>\n",
       "      <td>0.040000</td>\n",
       "      <td>0.000000</td>\n",
       "      <td>0.401232</td>\n",
       "      <td>1.000000</td>\n",
       "    </tr>\n",
       "    <tr>\n",
       "      <th>75%</th>\n",
       "      <td>1.160000</td>\n",
       "      <td>0.650000</td>\n",
       "      <td>0.489338</td>\n",
       "      <td>1.308438</td>\n",
       "      <td>1.160000</td>\n",
       "      <td>0.650000</td>\n",
       "      <td>0.531609</td>\n",
       "      <td>1.315699</td>\n",
       "      <td>1.000000</td>\n",
       "    </tr>\n",
       "    <tr>\n",
       "      <th>max</th>\n",
       "      <td>5.920000</td>\n",
       "      <td>1.920000</td>\n",
       "      <td>24.879934</td>\n",
       "      <td>5.920000</td>\n",
       "      <td>5.960000</td>\n",
       "      <td>1.760000</td>\n",
       "      <td>9.921471</td>\n",
       "      <td>6.100000</td>\n",
       "      <td>1.000000</td>\n",
       "    </tr>\n",
       "  </tbody>\n",
       "</table>\n",
       "</div>"
      ],
      "text/plain": [
       "              m1 h         m2 h         m3 h         m4 h         m1 a  \\\n",
       "count  2763.000000  2763.000000  2763.000000  2763.000000  2763.000000   \n",
       "mean      0.377351     0.042599    -0.125212     0.160548     0.384202   \n",
       "std       1.541160     0.848823     1.228167     2.527689     1.738104   \n",
       "min     -25.770000    -2.390000    -6.251034   -83.900000   -48.690000   \n",
       "25%      -0.220000    -0.560000    -0.730974    -0.638366    -0.170000   \n",
       "50%       0.530000     0.130000    -0.003274     0.427595     0.550000   \n",
       "75%       1.160000     0.650000     0.489338     1.308438     1.160000   \n",
       "max       5.920000     1.920000    24.879934     5.920000     5.960000   \n",
       "\n",
       "              m2 a         m3 a         m4 a       winner  \n",
       "count  2763.000000  2763.000000  2763.000000  2763.000000  \n",
       "mean      0.020174    -0.103820     0.228418     0.534202  \n",
       "std       0.848673     1.194767     2.366799     0.498919  \n",
       "min      -2.310000    -6.368462   -84.300000     0.000000  \n",
       "25%      -0.600000    -0.719985    -0.564976     0.000000  \n",
       "50%       0.040000     0.000000     0.401232     1.000000  \n",
       "75%       0.650000     0.531609     1.315699     1.000000  \n",
       "max       1.760000     9.921471     6.100000     1.000000  "
      ]
     },
     "execution_count": 4,
     "metadata": {},
     "output_type": "execute_result"
    }
   ],
   "source": [
    "#grab data\n",
    "data_path = 'og_algo/train.csv'\n",
    "data = pd.read_csv(data_path)\n",
    "\n",
    "testing_path = 'og_algo/data21.csv'\n",
    "testing = pd.read_csv(testing_path)\n",
    "\n",
    "#print\n",
    "data.describe()"
   ]
  },
  {
   "cell_type": "code",
   "execution_count": 6,
   "id": "b80b6740",
   "metadata": {},
   "outputs": [],
   "source": [
    "#y is the value we are trying to predict\n",
    "train_y = data.winner\n",
    "#these are the variables we are using to make the prediction\n",
    "features = ['m1 h', 'm2 h', 'm3 h', 'm4 h', 'm1 a', 'm2 a', 'm3 a', 'm4 a']\n",
    "train_X = data[features]\n",
    "\n",
    "val_y = testing.winner\n",
    "val_X = testing[features]"
   ]
  },
  {
   "cell_type": "code",
   "execution_count": 11,
   "id": "b07ad812",
   "metadata": {},
   "outputs": [
    {
     "name": "stdout",
     "output_type": "stream",
     "text": [
      "Decision Tree Regressor: \n",
      "0.5132939438700148\n"
     ]
    }
   ],
   "source": [
    "#train_X, val_X, train_y, val_y = train_test_split(x, y, random_state = 1, test_size = 0.3)\n",
    "\n",
    "data_model = DecisionTreeRegressor(random_state=1)\n",
    "data_model.fit(train_X, train_y)\n",
    "\n",
    "# get predicted prices on validation data\n",
    "val_predictions = data_model.predict(val_X)\n",
    "print(\"Decision Tree Regressor: \")\n",
    "print(1 - mean_absolute_error(val_y, val_predictions))"
   ]
  },
  {
   "cell_type": "code",
   "execution_count": 10,
   "id": "d01da9b6",
   "metadata": {},
   "outputs": [
    {
     "name": "stdout",
     "output_type": "stream",
     "text": [
      "Random Forest Regression: \n",
      "0.5146750369276218\n"
     ]
    }
   ],
   "source": [
    "random_model = RandomForestRegressor(random_state=1)\n",
    "random_model.fit(train_X, train_y)\n",
    "\n",
    "forest_preds = random_model.predict(val_X)\n",
    "print(\"Random Forest Regression: \")\n",
    "print(1 - mean_absolute_error(val_y, forest_preds))"
   ]
  },
  {
   "cell_type": "code",
   "execution_count": 12,
   "id": "5c131f59",
   "metadata": {},
   "outputs": [
    {
     "name": "stdout",
     "output_type": "stream",
     "text": [
      "Gradient Boosting Classifer: \n",
      "0.5664697193500738\n"
     ]
    }
   ],
   "source": [
    "from sklearn.ensemble import GradientBoostingClassifier\n",
    "class_model = GradientBoostingClassifier(random_state=1)\n",
    "class_model.fit(train_X, train_y)\n",
    "\n",
    "class_preds = class_model.predict(val_X)\n",
    "print(\"Gradient Boosting Classifer: \")\n",
    "print(accuracy_score(val_y, class_preds))"
   ]
  },
  {
   "cell_type": "code",
   "execution_count": 13,
   "id": "c72c75ed",
   "metadata": {},
   "outputs": [
    {
     "name": "stdout",
     "output_type": "stream",
     "text": [
      "Logistic Regression: \n",
      "0.5664697193500738\n"
     ]
    }
   ],
   "source": [
    "from sklearn.linear_model import LogisticRegression\n",
    "lr = LogisticRegression()\n",
    "\n",
    "lr.fit(train_X, train_y)\n",
    "lr_preds = lr.predict(val_X)\n",
    "#print(mean_absolute_error(val_y, lr_preds))\n",
    "print(\"Logistic Regression: \")\n",
    "print(accuracy_score(val_y, lr_preds))"
   ]
  },
  {
   "cell_type": "code",
   "execution_count": 14,
   "id": "d418b4a3",
   "metadata": {},
   "outputs": [
    {
     "name": "stdout",
     "output_type": "stream",
     "text": [
      "Logistic Regression w/ Pipeline: \n",
      "0.5664697193500738\n"
     ]
    }
   ],
   "source": [
    "from sklearn.preprocessing import StandardScaler\n",
    "from sklearn.pipeline import make_pipeline\n",
    "\n",
    "pipe = make_pipeline(StandardScaler(),\n",
    "                     LogisticRegression())\n",
    "\n",
    "pipe.fit(train_X, train_y)\n",
    "p_preds = pipe.predict(val_X)\n",
    "\n",
    "print(\"Logistic Regression w/ Pipeline: \")\n",
    "print(accuracy_score(val_y, p_preds))"
   ]
  },
  {
   "cell_type": "markdown",
   "id": "1d2fb05e",
   "metadata": {},
   "source": [
    "## Raw Data"
   ]
  },
  {
   "cell_type": "code",
   "execution_count": 7,
   "id": "8f0e14ca",
   "metadata": {},
   "outputs": [
    {
     "data": {
      "text/html": [
       "<div>\n",
       "<style scoped>\n",
       "    .dataframe tbody tr th:only-of-type {\n",
       "        vertical-align: middle;\n",
       "    }\n",
       "\n",
       "    .dataframe tbody tr th {\n",
       "        vertical-align: top;\n",
       "    }\n",
       "\n",
       "    .dataframe thead th {\n",
       "        text-align: right;\n",
       "    }\n",
       "</style>\n",
       "<table border=\"1\" class=\"dataframe\">\n",
       "  <thead>\n",
       "    <tr style=\"text-align: right;\">\n",
       "      <th></th>\n",
       "      <th>hrs</th>\n",
       "      <th>hra</th>\n",
       "      <th>hsera</th>\n",
       "      <th>hr</th>\n",
       "      <th>hera</th>\n",
       "      <th>ars</th>\n",
       "      <th>ara</th>\n",
       "      <th>asera</th>\n",
       "      <th>ar</th>\n",
       "      <th>aera</th>\n",
       "      <th>winner</th>\n",
       "    </tr>\n",
       "  </thead>\n",
       "  <tbody>\n",
       "    <tr>\n",
       "      <th>count</th>\n",
       "      <td>2704.000000</td>\n",
       "      <td>2704.000000</td>\n",
       "      <td>2704.000000</td>\n",
       "      <td>2704.000000</td>\n",
       "      <td>2704.000000</td>\n",
       "      <td>2704.000000</td>\n",
       "      <td>2704.000000</td>\n",
       "      <td>2704.000000</td>\n",
       "      <td>2704.000000</td>\n",
       "      <td>2704.000000</td>\n",
       "      <td>2704.000000</td>\n",
       "    </tr>\n",
       "    <tr>\n",
       "      <th>mean</th>\n",
       "      <td>4.628702</td>\n",
       "      <td>4.611864</td>\n",
       "      <td>4.463825</td>\n",
       "      <td>1.077563</td>\n",
       "      <td>4.245936</td>\n",
       "      <td>4.617489</td>\n",
       "      <td>4.620477</td>\n",
       "      <td>4.410049</td>\n",
       "      <td>1.070877</td>\n",
       "      <td>4.248706</td>\n",
       "      <td>0.534763</td>\n",
       "    </tr>\n",
       "    <tr>\n",
       "      <th>std</th>\n",
       "      <td>0.544129</td>\n",
       "      <td>0.609479</td>\n",
       "      <td>2.617819</td>\n",
       "      <td>0.398228</td>\n",
       "      <td>1.600610</td>\n",
       "      <td>0.543556</td>\n",
       "      <td>0.605979</td>\n",
       "      <td>2.447662</td>\n",
       "      <td>0.392274</td>\n",
       "      <td>1.812099</td>\n",
       "      <td>0.498882</td>\n",
       "    </tr>\n",
       "    <tr>\n",
       "      <th>min</th>\n",
       "      <td>3.410000</td>\n",
       "      <td>3.040000</td>\n",
       "      <td>0.000000</td>\n",
       "      <td>0.369231</td>\n",
       "      <td>0.000000</td>\n",
       "      <td>3.430000</td>\n",
       "      <td>3.040000</td>\n",
       "      <td>0.000000</td>\n",
       "      <td>0.375000</td>\n",
       "      <td>0.000000</td>\n",
       "      <td>0.000000</td>\n",
       "    </tr>\n",
       "    <tr>\n",
       "      <th>25%</th>\n",
       "      <td>4.280000</td>\n",
       "      <td>4.140000</td>\n",
       "      <td>3.240997</td>\n",
       "      <td>0.786831</td>\n",
       "      <td>3.390000</td>\n",
       "      <td>4.280000</td>\n",
       "      <td>4.140000</td>\n",
       "      <td>3.255319</td>\n",
       "      <td>0.785440</td>\n",
       "      <td>3.400000</td>\n",
       "      <td>0.000000</td>\n",
       "    </tr>\n",
       "    <tr>\n",
       "      <th>50%</th>\n",
       "      <td>4.620000</td>\n",
       "      <td>4.570000</td>\n",
       "      <td>4.157973</td>\n",
       "      <td>1.043478</td>\n",
       "      <td>4.090000</td>\n",
       "      <td>4.590000</td>\n",
       "      <td>4.600000</td>\n",
       "      <td>4.180872</td>\n",
       "      <td>1.038462</td>\n",
       "      <td>4.070000</td>\n",
       "      <td>1.000000</td>\n",
       "    </tr>\n",
       "    <tr>\n",
       "      <th>75%</th>\n",
       "      <td>5.010000</td>\n",
       "      <td>5.070000</td>\n",
       "      <td>5.311840</td>\n",
       "      <td>1.281250</td>\n",
       "      <td>4.840000</td>\n",
       "      <td>5.010000</td>\n",
       "      <td>5.080000</td>\n",
       "      <td>5.284698</td>\n",
       "      <td>1.279559</td>\n",
       "      <td>4.820000</td>\n",
       "      <td>1.000000</td>\n",
       "    </tr>\n",
       "    <tr>\n",
       "      <th>max</th>\n",
       "      <td>6.030000</td>\n",
       "      <td>6.450000</td>\n",
       "      <td>90.000000</td>\n",
       "      <td>2.416667</td>\n",
       "      <td>30.860000</td>\n",
       "      <td>5.990000</td>\n",
       "      <td>6.420000</td>\n",
       "      <td>90.000000</td>\n",
       "      <td>2.457143</td>\n",
       "      <td>54.000000</td>\n",
       "      <td>1.000000</td>\n",
       "    </tr>\n",
       "  </tbody>\n",
       "</table>\n",
       "</div>"
      ],
      "text/plain": [
       "               hrs          hra        hsera           hr         hera  \\\n",
       "count  2704.000000  2704.000000  2704.000000  2704.000000  2704.000000   \n",
       "mean      4.628702     4.611864     4.463825     1.077563     4.245936   \n",
       "std       0.544129     0.609479     2.617819     0.398228     1.600610   \n",
       "min       3.410000     3.040000     0.000000     0.369231     0.000000   \n",
       "25%       4.280000     4.140000     3.240997     0.786831     3.390000   \n",
       "50%       4.620000     4.570000     4.157973     1.043478     4.090000   \n",
       "75%       5.010000     5.070000     5.311840     1.281250     4.840000   \n",
       "max       6.030000     6.450000    90.000000     2.416667    30.860000   \n",
       "\n",
       "               ars          ara        asera           ar         aera  \\\n",
       "count  2704.000000  2704.000000  2704.000000  2704.000000  2704.000000   \n",
       "mean      4.617489     4.620477     4.410049     1.070877     4.248706   \n",
       "std       0.543556     0.605979     2.447662     0.392274     1.812099   \n",
       "min       3.430000     3.040000     0.000000     0.375000     0.000000   \n",
       "25%       4.280000     4.140000     3.255319     0.785440     3.400000   \n",
       "50%       4.590000     4.600000     4.180872     1.038462     4.070000   \n",
       "75%       5.010000     5.080000     5.284698     1.279559     4.820000   \n",
       "max       5.990000     6.420000    90.000000     2.457143    54.000000   \n",
       "\n",
       "            winner  \n",
       "count  2704.000000  \n",
       "mean      0.534763  \n",
       "std       0.498882  \n",
       "min       0.000000  \n",
       "25%       0.000000  \n",
       "50%       1.000000  \n",
       "75%       1.000000  \n",
       "max       1.000000  "
      ]
     },
     "execution_count": 7,
     "metadata": {},
     "output_type": "execute_result"
    }
   ],
   "source": [
    "data_path = 'raw/train.csv'\n",
    "data = pd.read_csv(data_path)\n",
    "\n",
    "testing_path = 'raw/data21.csv'\n",
    "testing = pd.read_csv(testing_path)\n",
    "\n",
    "data.describe()"
   ]
  },
  {
   "cell_type": "code",
   "execution_count": 8,
   "id": "6ce34226",
   "metadata": {},
   "outputs": [],
   "source": [
    "#y is the value we are trying to predict\n",
    "train_y = data.winner\n",
    "#these are the variables we are using to make the prediction\n",
    "features = ['hrs', 'hra', 'hsera', 'hr', 'hera', 'ars', 'ara', 'asera', 'ar', 'aera']\n",
    "train_X = data[features]\n",
    "\n",
    "val_y = testing.winner\n",
    "val_X = testing[features]"
   ]
  },
  {
   "cell_type": "code",
   "execution_count": 9,
   "id": "12c50f90",
   "metadata": {},
   "outputs": [
    {
     "name": "stdout",
     "output_type": "stream",
     "text": [
      "Decision Tree Regressor: \n",
      "0.5281743050338092\n"
     ]
    }
   ],
   "source": [
    "data_model = DecisionTreeRegressor(random_state=1)\n",
    "data_model.fit(train_X, train_y)\n",
    "\n",
    "# get predicted prices on validation data\n",
    "val_predictions = data_model.predict(val_X)\n",
    "print(\"Decision Tree Regressor: \")\n",
    "print(1 - mean_absolute_error(val_y, val_predictions))"
   ]
  },
  {
   "cell_type": "code",
   "execution_count": 10,
   "id": "55d1cfe2",
   "metadata": {},
   "outputs": [
    {
     "name": "stdout",
     "output_type": "stream",
     "text": [
      "Random Forest Regression: \n",
      "0.5180540946656649\n"
     ]
    }
   ],
   "source": [
    "random_model = RandomForestRegressor(random_state=1)\n",
    "random_model.fit(train_X, train_y)\n",
    "\n",
    "forest_preds = random_model.predict(val_X)\n",
    "print(\"Random Forest Regression: \")\n",
    "print(1 - mean_absolute_error(val_y, forest_preds))"
   ]
  },
  {
   "cell_type": "code",
   "execution_count": 11,
   "id": "47b84ba1",
   "metadata": {},
   "outputs": [
    {
     "name": "stdout",
     "output_type": "stream",
     "text": [
      "Gradient Boosting Classifer: \n",
      "0.5424492862509391\n"
     ]
    }
   ],
   "source": [
    "from sklearn.ensemble import GradientBoostingClassifier\n",
    "class_model = GradientBoostingClassifier(random_state=1)\n",
    "class_model.fit(train_X, train_y)\n",
    "\n",
    "class_preds = class_model.predict(val_X)\n",
    "print(\"Gradient Boosting Classifer: \")\n",
    "print(accuracy_score(val_y, class_preds))"
   ]
  },
  {
   "cell_type": "code",
   "execution_count": 12,
   "id": "323f200c",
   "metadata": {},
   "outputs": [
    {
     "name": "stdout",
     "output_type": "stream",
     "text": [
      "Logistic Regression: \n",
      "0.5732531930879038\n"
     ]
    }
   ],
   "source": [
    "from sklearn.linear_model import LogisticRegression\n",
    "lr = LogisticRegression()\n",
    "\n",
    "lr.fit(train_X, train_y)\n",
    "lr_preds = lr.predict(val_X)\n",
    "#print(mean_absolute_error(val_y, lr_preds))\n",
    "print(\"Logistic Regression: \")\n",
    "print(accuracy_score(val_y, lr_preds))"
   ]
  },
  {
   "cell_type": "code",
   "execution_count": 13,
   "id": "36e01e4b",
   "metadata": {},
   "outputs": [
    {
     "name": "stdout",
     "output_type": "stream",
     "text": [
      "Logistic Regression w/ Pipeline: \n",
      "0.574755822689707\n"
     ]
    }
   ],
   "source": [
    "from sklearn.preprocessing import StandardScaler\n",
    "from sklearn.pipeline import make_pipeline\n",
    "\n",
    "pipe = make_pipeline(StandardScaler(),\n",
    "                     LogisticRegression())\n",
    "\n",
    "pipe.fit(train_X, train_y)\n",
    "p_preds = pipe.predict(val_X)\n",
    "\n",
    "print(\"Logistic Regression w/ Pipeline: \")\n",
    "print(accuracy_score(val_y, p_preds))"
   ]
  },
  {
   "cell_type": "code",
   "execution_count": null,
   "id": "5f5bd3a9",
   "metadata": {},
   "outputs": [],
   "source": []
  }
 ],
 "metadata": {
  "kernelspec": {
   "display_name": "Python 3 (ipykernel)",
   "language": "python",
   "name": "python3"
  },
  "language_info": {
   "codemirror_mode": {
    "name": "ipython",
    "version": 3
   },
   "file_extension": ".py",
   "mimetype": "text/x-python",
   "name": "python",
   "nbconvert_exporter": "python",
   "pygments_lexer": "ipython3",
   "version": "3.9.13"
  }
 },
 "nbformat": 4,
 "nbformat_minor": 5
}
